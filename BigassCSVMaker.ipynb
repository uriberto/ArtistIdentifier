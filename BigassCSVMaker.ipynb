{
 "metadata": {
  "language_info": {
   "codemirror_mode": {
    "name": "ipython",
    "version": 3
   },
   "file_extension": ".py",
   "mimetype": "text/x-python",
   "name": "python",
   "nbconvert_exporter": "python",
   "pygments_lexer": "ipython3",
   "version": "3.9.0"
  },
  "orig_nbformat": 2,
  "kernelspec": {
   "name": "python390jvsc74a57bd0ee5cc6fef2d70a7e71ee3826687cbd150f18158e0b1eef11d4f4f92bb920e304",
   "display_name": "Python 3.9.0 64-bit"
  },
  "metadata": {
   "interpreter": {
    "hash": "ee5cc6fef2d70a7e71ee3826687cbd150f18158e0b1eef11d4f4f92bb920e304"
   }
  }
 },
 "nbformat": 4,
 "nbformat_minor": 2,
 "cells": [
  {
   "cell_type": "code",
   "execution_count": 1,
   "metadata": {},
   "outputs": [],
   "source": [
    "# imports\n",
    "import numpy as np\n",
    "import pandas as pd\n",
    "from PIL import Image\n",
    "import os"
   ]
  },
  {
   "cell_type": "code",
   "execution_count": 2,
   "metadata": {},
   "outputs": [],
   "source": [
    "# constants\n",
    "PATH = '../100x100/'\n",
    "# each pixel will be labeled 'ixj C' where C is R/G/B\n",
    "pixel_names = np.array([[[str(i) + 'x' + str(j) + c for c in [' R', ' G', ' B']] \\\n",
    "                            for j in range(100)]                                \\\n",
    "                            for i in range(100)]).ravel()\n",
    "column_names = np.concatenate([['artist', 'picture'], pixel_names])"
   ]
  },
  {
   "cell_type": "code",
   "execution_count": 17,
   "metadata": {},
   "outputs": [
    {
     "output_type": "stream",
     "name": "stdout",
     "text": [
      "Creating Albrecht_DuGòá+¬rer DataFrame...Concatenating DataFrames... Done!\n",
      "Creating Albrecht_Du¦êrer DataFrame...Concatenating DataFrames... Done!\n",
      "Creating Alfred_Sisley DataFrame...Concatenating DataFrames... Done!\n",
      "Creating Amedeo_Modigliani DataFrame...Concatenating DataFrames... Done!\n",
      "Creating Andrei_Rublev DataFrame...Concatenating DataFrames... Done!\n",
      "Creating Andy_Warhol DataFrame...Concatenating DataFrames... Done!\n",
      "Creating Camille_Pissarro DataFrame...Concatenating DataFrames... Done!\n",
      "Creating Caravaggio DataFrame...Concatenating DataFrames... Done!\n",
      "Creating Claude_Monet DataFrame...Concatenating DataFrames... Done!\n",
      "Creating Diego_Rivera DataFrame...Concatenating DataFrames... Done!\n",
      "Creating Diego_Velazquez DataFrame...Concatenating DataFrames... Done!\n",
      "Creating Edgar_Degas DataFrame...Concatenating DataFrames... Done!\n",
      "Creating Edouard_Manet DataFrame...Concatenating DataFrames... Done!\n",
      "Creating Edvard_Munch DataFrame...Concatenating DataFrames... Done!\n",
      "Creating El_Greco DataFrame...Concatenating DataFrames... Done!\n",
      "Creating Eugene_Delacroix DataFrame...Concatenating DataFrames... Done!\n",
      "Creating Francisco_Goya DataFrame...Concatenating DataFrames... Done!\n",
      "Creating Frida_Kahlo DataFrame...Concatenating DataFrames... Done!\n",
      "Creating Georges_Seurat DataFrame...Concatenating DataFrames... Done!\n",
      "Creating Giotto_di_Bondone DataFrame...Concatenating DataFrames... Done!\n",
      "Creating Gustave_Courbet DataFrame...Concatenating DataFrames... Done!\n",
      "Creating Gustav_Klimt DataFrame...Concatenating DataFrames... Done!\n",
      "Creating Henri_de_Toulouse-Lautrec DataFrame...Concatenating DataFrames... Done!\n",
      "Creating Henri_Matisse DataFrame...Concatenating DataFrames... Done!\n",
      "Creating Henri_Rousseau DataFrame...Concatenating DataFrames... Done!\n",
      "Creating Hieronymus_Bosch DataFrame...Concatenating DataFrames... Done!\n",
      "Creating Jackson_Pollock DataFrame...Concatenating DataFrames... Done!\n",
      "Creating Jan_van_Eyck DataFrame...Concatenating DataFrames... Done!\n",
      "Creating Joan_Miro DataFrame...Concatenating DataFrames... Done!\n",
      "Creating Kazimir_Malevich DataFrame...Concatenating DataFrames... Done!\n",
      "Creating Leonardo_da_Vinci DataFrame...Concatenating DataFrames... Done!\n",
      "Creating Marc_Chagall DataFrame...Concatenating DataFrames... Done!\n",
      "Creating Michelangelo DataFrame...Concatenating DataFrames... Done!\n",
      "Creating Mikhail_Vrubel DataFrame...Concatenating DataFrames... Done!\n",
      "Creating Pablo_Picasso DataFrame...Concatenating DataFrames... Done!\n",
      "Creating Paul_Cezanne DataFrame...Concatenating DataFrames... Done!\n",
      "Creating Paul_Gauguin DataFrame...Concatenating DataFrames... Done!\n",
      "Creating Paul_Klee DataFrame...Concatenating DataFrames... Done!\n",
      "Creating Peter_Paul_Rubens DataFrame...Concatenating DataFrames... Done!\n",
      "Creating Pierre-Auguste_Renoir DataFrame...Concatenating DataFrames... Done!\n",
      "Creating Pieter_Bruegel DataFrame...Concatenating DataFrames... Done!\n",
      "Creating Piet_Mondrian DataFrame...Concatenating DataFrames... Done!\n",
      "Creating Raphael DataFrame...Concatenating DataFrames... Done!\n",
      "Creating Rembrandt DataFrame...Concatenating DataFrames... Done!\n",
      "Creating Rene_Magritte DataFrame...Concatenating DataFrames... Done!\n",
      "Creating Salvador_Dali DataFrame...Concatenating DataFrames... Done!\n",
      "Creating Sandro_Botticelli DataFrame...Concatenating DataFrames... Done!\n",
      "Creating Titian DataFrame...Concatenating DataFrames... Done!\n",
      "Creating Vasiliy_Kandinskiy DataFrame...Concatenating DataFrames... Done!\n",
      "Creating Vincent_van_Gogh DataFrame...Concatenating DataFrames... Done!\n",
      "Creating William_Turner DataFrame...Concatenating DataFrames... Done!\n",
      "Creating csv file... Done!\n"
     ]
    }
   ],
   "source": [
    "# make a csv out of each artist's resized pictures - RUN THIS IF RESIZED PICTURES ARE SAVED\n",
    "\n",
    "bigass_df = pd.DataFrame(columns=column_names)\n",
    "# get list or artists/folders\n",
    "artists = [filename for filename in os.listdir(PATH) if filename[-3:]!='csv']\n",
    "for artist in artists:\n",
    "    print('Creating ' + artist + ' DataFrame...', end='')\n",
    "    artist_df = pd.read_csv(artist + '.csv')\n",
    "    print('Concatenating DataFrames... ', end='')   \n",
    "    bigass_df = pd.concat([bigass_df, artist_df], ignore_index=True, axis=0)\n",
    "    print('Done!')\n",
    "print('Creating csv file... ', end='')\n",
    "bigass_df.to_csv('../bigass.csv')\n",
    "print('Done!')"
   ]
  }
 ]
}