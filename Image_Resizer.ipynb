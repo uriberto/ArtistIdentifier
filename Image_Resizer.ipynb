{
 "cells": [
  {
   "cell_type": "code",
   "execution_count": 27,
   "metadata": {},
   "outputs": [
    {
     "name": "stdout",
     "output_type": "stream",
     "text": [
      "['Piet_Mondrian', 'Albrecht_Du╠êrer', 'Diego_Velazquez', 'Edgar_Degas', 'Georges_Seurat', 'Francisco_Goya', 'Andrei_Rublev', 'Alfred_Sisley', 'Michelangelo', 'Rene_Magritte', 'Titian', 'Edouard_Manet', 'Giotto_di_Bondone', 'Andy_Warhol', 'Jan_van_Eyck', 'El_Greco', 'Eugene_Delacroix', 'Pieter_Bruegel', 'Paul_Klee', 'Paul_Gauguin', 'Claude_Monet', 'Marc_Chagall', 'Sandro_Botticelli', 'Henri_de_Toulouse-Lautrec', 'Kazimir_Malevich', 'Paul_Cezanne', 'Camille_Pissarro', 'Salvador_Dali', 'Diego_Rivera', 'Vasiliy_Kandinskiy', 'Gustav_Klimt', 'Vincent_van_Gogh', 'Gustave_Courbet', 'Amedeo_Modigliani', 'Henri_Matisse', 'Frida_Kahlo', 'Pablo_Picasso', 'Jackson_Pollock', 'Pierre-Auguste_Renoir', 'Joan_Miro', 'Peter_Paul_Rubens', 'Edvard_Munch', 'Caravaggio', 'Hieronymus_Bosch', 'Mikhail_Vrubel', 'Raphael', 'Rembrandt', 'Leonardo_da_Vinci', 'Henri_Rousseau', 'William_Turner', 'Albrecht_Dürer']\n"
     ]
    }
   ],
   "source": [
    "\n",
    "from PIL import Image\n",
    "import os\n",
    "\n",
    "# where the full sized images are kept relative to the repository\n",
    "PATH = 'originaldata/images/images/'\n",
    "\n",
    "# list artists/folders\n",
    "artists = os.listdir('originaldata/images/images/')\n",
    "restrictedartists = [name for name in artists if name[0]!='.']\n",
    "print(restrictedartists)\n",
    "artists = restrictedartists"
   ]
  },
  {
   "cell_type": "code",
   "execution_count": 28,
   "metadata": {},
   "outputs": [],
   "source": [
    "\n",
    "for artist in artists:\n",
    "    # make destination directory if doesn't exist\n",
    "    os.makedirs('./100x100/' + artist, exist_ok=True)\n",
    "    # get all filenames for that artist/folder\n",
    "    image_names = os.listdir(PATH + artist)\n",
    "    # for each image, save in desitnation folder\n",
    "    # a resized version to 100x100 pixels\n",
    "    for image_name in image_names:\n",
    "        location = PATH + artist + '/' + image_name\n",
    "        image = Image.open(location)\n",
    "        if image.mode != 'RGB':\n",
    "            image = image.convert('RGB')\n",
    "        resized = image.resize((100, 100))\n",
    "        resized.save('./100x100/' + artist +\n",
    "                                      '/' + image_name)\n",
    "        image.close()"
   ]
  },
  {
   "cell_type": "code",
   "execution_count": null,
   "metadata": {},
   "outputs": [],
   "source": []
  }
 ],
 "metadata": {
  "kernelspec": {
   "display_name": "Python 3",
   "language": "python",
   "name": "python3"
  },
  "language_info": {
   "codemirror_mode": {
    "name": "ipython",
    "version": 3
   },
   "file_extension": ".py",
   "mimetype": "text/x-python",
   "name": "python",
   "nbconvert_exporter": "python",
   "pygments_lexer": "ipython3",
   "version": "3.7.6"
  }
 },
 "nbformat": 4,
 "nbformat_minor": 4
}
