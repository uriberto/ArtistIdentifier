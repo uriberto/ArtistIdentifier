{
 "metadata": {
  "language_info": {
   "codemirror_mode": {
    "name": "ipython",
    "version": 3
   },
   "file_extension": ".py",
   "mimetype": "text/x-python",
   "name": "python",
   "nbconvert_exporter": "python",
   "pygments_lexer": "ipython3",
   "version": "3.9.0"
  },
  "orig_nbformat": 2,
  "kernelspec": {
   "name": "python390jvsc74a57bd0ee5cc6fef2d70a7e71ee3826687cbd150f18158e0b1eef11d4f4f92bb920e304",
   "display_name": "Python 3.9.0 64-bit"
  },
  "metadata": {
   "interpreter": {
    "hash": "ee5cc6fef2d70a7e71ee3826687cbd150f18158e0b1eef11d4f4f92bb920e304"
   }
  }
 },
 "nbformat": 4,
 "nbformat_minor": 2,
 "cells": [
  {
   "cell_type": "code",
   "execution_count": 167,
   "metadata": {},
   "outputs": [],
   "source": [
    "import numpy as np\n",
    "import pandas as pd\n",
    "from sklearn.model_selection import train_test_split\n",
    "from sklearn.base import clone\n",
    "from sklearn.ensemble import RandomForestClassifier\n",
    "from sklearn.linear_model import LogisticRegression\n",
    "from sklearn.metrics import confusion_matrix\n",
    "from sklearn.metrics import accuracy_score\n",
    "from sklearn.metrics import precision_score\n",
    "from sklearn.metrics import recall_score"
   ]
  },
  {
   "cell_type": "code",
   "execution_count": 2,
   "metadata": {},
   "outputs": [],
   "source": [
    "import gc"
   ]
  },
  {
   "cell_type": "code",
   "execution_count": 3,
   "metadata": {},
   "outputs": [
    {
     "output_type": "execute_result",
     "data": {
      "text/plain": [
       "   Unnamed: 0               artist                      picture  0x0 R  0x0 G  \\\n",
       "0           0  Albrecht_DuGòá+¬rer    Albrecht_DuGòá+¬rer_1.jpg    166    166   \n",
       "1           1  Albrecht_DuGòá+¬rer   Albrecht_DuGòá+¬rer_10.jpg    157    157   \n",
       "2           2  Albrecht_DuGòá+¬rer  Albrecht_DuGòá+¬rer_100.jpg    174    174   \n",
       "3           3  Albrecht_DuGòá+¬rer  Albrecht_DuGòá+¬rer_101.jpg    217    215   \n",
       "4           4  Albrecht_DuGòá+¬rer  Albrecht_DuGòá+¬rer_102.jpg    230    230   \n",
       "\n",
       "   0x0B  0x1 R  0x1 G  0x1B  0x2 R  ...  99x90 B  99x91 B  99x92 B  99x93 B  \\\n",
       "0   NaN    160    160   NaN    163  ...    178.0    178.0    176.0    171.0   \n",
       "1   NaN    159    159   NaN    163  ...    171.0    171.0    178.0    184.0   \n",
       "2   NaN    164    164   NaN    167  ...    169.0    157.0    138.0    124.0   \n",
       "3   NaN    202    200   NaN    203  ...    161.0    163.0    165.0    165.0   \n",
       "4   NaN    231    231   NaN    232  ...    240.0    240.0    239.0    237.0   \n",
       "\n",
       "   99x94 B  99x95 B  99x96 B  99x97 B  99x98 B  99x99 B  \n",
       "0    167.0    164.0    167.0    168.0    170.0    172.0  \n",
       "1    175.0    160.0    147.0    154.0    163.0    169.0  \n",
       "2    113.0    131.0    102.0    113.0    102.0     82.0  \n",
       "3    165.0    164.0    170.0    158.0    170.0    192.0  \n",
       "4    235.0    233.0    231.0    231.0    231.0    231.0  \n",
       "\n",
       "[5 rows x 40003 columns]"
      ],
      "text/html": "<div>\n<style scoped>\n    .dataframe tbody tr th:only-of-type {\n        vertical-align: middle;\n    }\n\n    .dataframe tbody tr th {\n        vertical-align: top;\n    }\n\n    .dataframe thead th {\n        text-align: right;\n    }\n</style>\n<table border=\"1\" class=\"dataframe\">\n  <thead>\n    <tr style=\"text-align: right;\">\n      <th></th>\n      <th>Unnamed: 0</th>\n      <th>artist</th>\n      <th>picture</th>\n      <th>0x0 R</th>\n      <th>0x0 G</th>\n      <th>0x0B</th>\n      <th>0x1 R</th>\n      <th>0x1 G</th>\n      <th>0x1B</th>\n      <th>0x2 R</th>\n      <th>...</th>\n      <th>99x90 B</th>\n      <th>99x91 B</th>\n      <th>99x92 B</th>\n      <th>99x93 B</th>\n      <th>99x94 B</th>\n      <th>99x95 B</th>\n      <th>99x96 B</th>\n      <th>99x97 B</th>\n      <th>99x98 B</th>\n      <th>99x99 B</th>\n    </tr>\n  </thead>\n  <tbody>\n    <tr>\n      <th>0</th>\n      <td>0</td>\n      <td>Albrecht_DuGòá+¬rer</td>\n      <td>Albrecht_DuGòá+¬rer_1.jpg</td>\n      <td>166</td>\n      <td>166</td>\n      <td>NaN</td>\n      <td>160</td>\n      <td>160</td>\n      <td>NaN</td>\n      <td>163</td>\n      <td>...</td>\n      <td>178.0</td>\n      <td>178.0</td>\n      <td>176.0</td>\n      <td>171.0</td>\n      <td>167.0</td>\n      <td>164.0</td>\n      <td>167.0</td>\n      <td>168.0</td>\n      <td>170.0</td>\n      <td>172.0</td>\n    </tr>\n    <tr>\n      <th>1</th>\n      <td>1</td>\n      <td>Albrecht_DuGòá+¬rer</td>\n      <td>Albrecht_DuGòá+¬rer_10.jpg</td>\n      <td>157</td>\n      <td>157</td>\n      <td>NaN</td>\n      <td>159</td>\n      <td>159</td>\n      <td>NaN</td>\n      <td>163</td>\n      <td>...</td>\n      <td>171.0</td>\n      <td>171.0</td>\n      <td>178.0</td>\n      <td>184.0</td>\n      <td>175.0</td>\n      <td>160.0</td>\n      <td>147.0</td>\n      <td>154.0</td>\n      <td>163.0</td>\n      <td>169.0</td>\n    </tr>\n    <tr>\n      <th>2</th>\n      <td>2</td>\n      <td>Albrecht_DuGòá+¬rer</td>\n      <td>Albrecht_DuGòá+¬rer_100.jpg</td>\n      <td>174</td>\n      <td>174</td>\n      <td>NaN</td>\n      <td>164</td>\n      <td>164</td>\n      <td>NaN</td>\n      <td>167</td>\n      <td>...</td>\n      <td>169.0</td>\n      <td>157.0</td>\n      <td>138.0</td>\n      <td>124.0</td>\n      <td>113.0</td>\n      <td>131.0</td>\n      <td>102.0</td>\n      <td>113.0</td>\n      <td>102.0</td>\n      <td>82.0</td>\n    </tr>\n    <tr>\n      <th>3</th>\n      <td>3</td>\n      <td>Albrecht_DuGòá+¬rer</td>\n      <td>Albrecht_DuGòá+¬rer_101.jpg</td>\n      <td>217</td>\n      <td>215</td>\n      <td>NaN</td>\n      <td>202</td>\n      <td>200</td>\n      <td>NaN</td>\n      <td>203</td>\n      <td>...</td>\n      <td>161.0</td>\n      <td>163.0</td>\n      <td>165.0</td>\n      <td>165.0</td>\n      <td>165.0</td>\n      <td>164.0</td>\n      <td>170.0</td>\n      <td>158.0</td>\n      <td>170.0</td>\n      <td>192.0</td>\n    </tr>\n    <tr>\n      <th>4</th>\n      <td>4</td>\n      <td>Albrecht_DuGòá+¬rer</td>\n      <td>Albrecht_DuGòá+¬rer_102.jpg</td>\n      <td>230</td>\n      <td>230</td>\n      <td>NaN</td>\n      <td>231</td>\n      <td>231</td>\n      <td>NaN</td>\n      <td>232</td>\n      <td>...</td>\n      <td>240.0</td>\n      <td>240.0</td>\n      <td>239.0</td>\n      <td>237.0</td>\n      <td>235.0</td>\n      <td>233.0</td>\n      <td>231.0</td>\n      <td>231.0</td>\n      <td>231.0</td>\n      <td>231.0</td>\n    </tr>\n  </tbody>\n</table>\n<p>5 rows × 40003 columns</p>\n</div>"
     },
     "metadata": {},
     "execution_count": 3
    }
   ],
   "source": [
    "df = pd.read_csv('../bigass.csv')"
   ]
  },
  {
   "cell_type": "code",
   "execution_count": 60,
   "metadata": {},
   "outputs": [],
   "source": [
    "X = df.drop(['artist','picture','Van Gogh'],axis=1)\n",
    "y = df['Van Gogh']\n",
    "#del df\n",
    "#gc.collect()"
   ]
  },
  {
   "cell_type": "code",
   "execution_count": 63,
   "metadata": {},
   "outputs": [],
   "source": [
    "X_train, X_test, y_train, y_test = train_test_split(X,y,\n",
    "                                                 test_size = 0.25,\n",
    "                                                 shuffle=True,\n",
    "                                                 stratify=y)"
   ]
  },
  {
   "cell_type": "code",
   "execution_count": 122,
   "metadata": {},
   "outputs": [],
   "source": [
    "VG_idx = y_train[y_train == 1].index\n",
    "not_VG_idx = y_train[y_train == 0].sample(sum(y_train)).index\n",
    "idx = np.concatenate([VG_idx,not_VG_idx])\n",
    "\n",
    "X_balanced = X_train.loc[idx]\n",
    "y_balanced = y_train[idx]\n",
    "\n",
    "VG_idx_test = y_test[y_test == 1].index\n",
    "not_VG_idx_test = y_test[y_test == 0].sample(sum(y_test)).index\n",
    "idx_test = np.concatenate([VG_idx_test,not_VG_idx_test])\n",
    "\n",
    "X_balanced_test = X_test.loc[idx_test]\n",
    "y_balanced_test = y_test[idx_test]"
   ]
  },
  {
   "cell_type": "code",
   "execution_count": 163,
   "metadata": {},
   "outputs": [],
   "source": [
    "rfc = RandomForestClassifier(n_estimators=2000, max_depth=5)\n",
    "gc.collect()\n",
    "rfc.fit(X_balanced,y_balanced)"
   ]
  },
  {
   "cell_type": "code",
   "execution_count": 176,
   "metadata": {},
   "outputs": [
    {
     "output_type": "execute_result",
     "data": {
      "text/plain": [
       "LogisticRegression(max_iter=10000)"
      ]
     },
     "metadata": {},
     "execution_count": 176
    }
   ],
   "source": [
    "lrc_balanced = LogisticRegression(max_iter=10000)\n",
    "lrc_train = LogisticRegression(max_iter=10000)\n",
    "\n",
    "lrc_balanced.fit(X_balanced, y_balanced)\n",
    "lrc_train.fit(X_train, y_train)"
   ]
  },
  {
   "cell_type": "code",
   "execution_count": 186,
   "metadata": {},
   "outputs": [
    {
     "output_type": "stream",
     "name": "stdout",
     "text": [
      "Balanced accuracy: 1.0\n",
      "Balanced precision: 1.0\n",
      "Balanced recall: 1.0\n",
      "\n",
      "Balanced test accuracy: 0.653\n",
      "Balanced test precision: 0.66\n",
      "Balanced test recall: 0.63\n",
      "\n",
      "Train accuracy: 0.708\n",
      "Train precision: 0.255\n",
      "Train recall: 1.0\n",
      "\n",
      "Test accuracy: 0.655\n",
      "Test precision: 0.169\n",
      "Test recall: 0.63\n",
      "Balanced accuracy: 1.0\n",
      "Balanced precision: 1.0\n",
      "Balanced recall: 1.0\n",
      "\n",
      "Balanced test accuracy: 0.58\n",
      "Balanced test precision: 0.74\n",
      "Balanced test recall: 0.247\n",
      "\n",
      "Train accuracy: 1.0\n",
      "Train precision: 1.0\n",
      "Train recall: 1.0\n",
      "\n",
      "Test accuracy: 0.835\n",
      "Test precision: 0.215\n",
      "Test recall: 0.247\n"
     ]
    }
   ],
   "source": [
    "printout(rfc)\n",
    "printout(lrc_balanced)\n",
    "printout(lrc_train)\n"
   ]
  },
  {
   "cell_type": "code",
   "execution_count": 184,
   "metadata": {},
   "outputs": [],
   "source": [
    "def printout(model):\n",
    "    y_balanced_pred = model.predict(X_balanced)\n",
    "    y_balanced_test_pred = model.predict(X_balanced_test)\n",
    "    y_train_pred = model.predict(X_train)\n",
    "    y_test_pred = model.predict(X_test)\n",
    "\n",
    "    print('Balanced accuracy: ' + str(np.round(accuracy_score(y_balanced, y_balanced_pred),3)))\n",
    "    print('Balanced precision: ' + str(np.round(precision_score(y_balanced, y_balanced_pred),3)))\n",
    "    print('Balanced recall: ' + str(np.round(recall_score(y_balanced, y_balanced_pred),3)))\n",
    "    print()\n",
    "    print('Balanced test accuracy: ' + str(np.round(accuracy_score(y_balanced_test, y_balanced_test_pred),3)))\n",
    "    print('Balanced test precision: ' + str(np.round(precision_score(y_balanced_test, y_balanced_test_pred),3)))\n",
    "    print('Balanced test recall: ' + str(np.round(recall_score(y_balanced_test, y_balanced_test_pred),3)))\n",
    "    print()\n",
    "    print('Train accuracy: ' + str(np.round(accuracy_score(y_train, y_train_pred),3)))\n",
    "    print('Train precision: ' + str(np.round(precision_score(y_train, y_train_pred),3)))\n",
    "    print('Train recall: ' + str(np.round(recall_score(y_train, y_train_pred),3)))\n",
    "    print()\n",
    "    print('Test accuracy: ' + str(np.round(accuracy_score(y_test, y_test_pred),3)))\n",
    "    print('Test precision: ' + str(np.round(precision_score(y_test, y_test_pred),3)))\n",
    "    print('Test recall: ' + str(np.round(recall_score(y_test, y_test_pred),3)))"
   ]
  }
 ]
}