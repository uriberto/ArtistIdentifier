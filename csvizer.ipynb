{
<<<<<<< HEAD
 "cells": [
  {
   "cell_type": "code",
   "execution_count": 2,
=======
 "metadata": {
  "language_info": {
   "codemirror_mode": {
    "name": "ipython",
    "version": 3
   },
   "file_extension": ".py",
   "mimetype": "text/x-python",
   "name": "python",
   "nbconvert_exporter": "python",
   "pygments_lexer": "ipython3",
   "version": "3.9.0"
  },
  "orig_nbformat": 2,
  "kernelspec": {
   "name": "python390jvsc74a57bd0ee5cc6fef2d70a7e71ee3826687cbd150f18158e0b1eef11d4f4f92bb920e304",
   "display_name": "Python 3.9.0 64-bit"
  },
  "metadata": {
   "interpreter": {
    "hash": "ee5cc6fef2d70a7e71ee3826687cbd150f18158e0b1eef11d4f4f92bb920e304"
   }
  }
 },
 "nbformat": 4,
 "nbformat_minor": 2,
 "cells": [
  {
   "cell_type": "code",
   "execution_count": 11,
>>>>>>> 3583bb52f7323ea48efa6ee3b3f640a2eb200e9c
   "metadata": {},
   "outputs": [],
   "source": [
    "# imports\n",
    "import numpy as np\n",
    "import pandas as pd\n",
    "from PIL import Image\n",
    "import os"
   ]
  },
  {
   "cell_type": "code",
<<<<<<< HEAD
   "execution_count": 3,
=======
   "execution_count": 12,
>>>>>>> 3583bb52f7323ea48efa6ee3b3f640a2eb200e9c
   "metadata": {},
   "outputs": [],
   "source": [
    "# constants\n",
<<<<<<< HEAD
    "PATH = './100x100/'\n",
    "# each pixel will be labeled 'ixj C' where C is R/G/B\n",
    "pixel_names = np.array([[[str(i) + 'x' + str(j) + c for c in [' R', ' G', 'B']] \\\n",
    "                         for j in range(100)]                                \\\n",
=======
    "PATH = '../100x100/'\n",
    "# each pixel will be labeled 'ixj C' where C is R/G/B\n",
    "pixel_names = np.array([[[str(i) + 'x' + str(j) + c for c in [' R', ' G', 'B']] \\\n",
    "                            for j in range(100)]                                \\\n",
>>>>>>> 3583bb52f7323ea48efa6ee3b3f640a2eb200e9c
    "                            for i in range(100)]).ravel()\n",
    "column_names = np.concatenate([['artist', 'picture'], pixel_names])"
   ]
  },
  {
   "cell_type": "code",
<<<<<<< HEAD
   "execution_count": 12,
   "metadata": {},
   "outputs": [],
   "source": [
    "os.makedirs('./CSVs/', exist_ok=True)             "
   ]
  },
  {
   "cell_type": "code",
   "execution_count": 3,
   "metadata": {},
   "outputs": [],
   "source": []
  },
  {
   "cell_type": "code",
   "execution_count": 13,
   "metadata": {},
   "outputs": [
    {
     "name": "stdout",
     "output_type": "stream",
     "text": [
      "Processing Piet_Mondrian's images...Creating DataFrame... Creating csv file... Done!\n",
      "Processing Albrecht_Du╠êrer's images...Creating DataFrame... Creating csv file... Done!\n",
      "Processing Diego_Velazquez's images...Creating DataFrame... Creating csv file... Done!\n",
      "Processing Edgar_Degas's images...Creating DataFrame... Creating csv file... Done!\n",
      "Processing Georges_Seurat's images...Creating DataFrame... Creating csv file... Done!\n",
      "Processing Francisco_Goya's images...Creating DataFrame... Creating csv file... Done!\n",
      "Processing Andrei_Rublev's images...Creating DataFrame... Creating csv file... Done!\n",
      "Processing Alfred_Sisley's images...Creating DataFrame... Creating csv file... Done!\n",
      "Processing Michelangelo's images...Creating DataFrame... Creating csv file... Done!\n",
      "Processing Rene_Magritte's images...Creating DataFrame... Creating csv file... Done!\n",
      "Processing Titian's images...Creating DataFrame... Creating csv file... Done!\n",
      "Processing Edouard_Manet's images...Creating DataFrame... Creating csv file... Done!\n",
      "Processing Giotto_di_Bondone's images...Creating DataFrame... Creating csv file... Done!\n",
      "Processing Andy_Warhol's images...Creating DataFrame... Creating csv file... Done!\n",
      "Processing Jan_van_Eyck's images...Creating DataFrame... Creating csv file... Done!\n",
      "Processing El_Greco's images...Creating DataFrame... Creating csv file... Done!\n",
      "Processing Eugene_Delacroix's images...Creating DataFrame... Creating csv file... Done!\n",
      "Processing Pieter_Bruegel's images...Creating DataFrame... Creating csv file... Done!\n",
      "Processing Paul_Klee's images...Creating DataFrame... Creating csv file... Done!\n",
      "Processing Paul_Gauguin's images...Creating DataFrame... Creating csv file... Done!\n",
      "Processing Claude_Monet's images...Creating DataFrame... Creating csv file... Done!\n",
      "Processing Marc_Chagall's images...Creating DataFrame... Creating csv file... Done!\n",
      "Processing Sandro_Botticelli's images...Creating DataFrame... Creating csv file... Done!\n",
      "Processing Henri_de_Toulouse-Lautrec's images...Creating DataFrame... Creating csv file... Done!\n",
      "Processing Kazimir_Malevich's images...Creating DataFrame... Creating csv file... Done!\n",
      "Processing Paul_Cezanne's images...Creating DataFrame... Creating csv file... Done!\n",
      "Processing Camille_Pissarro's images...Creating DataFrame... Creating csv file... Done!\n",
      "Processing Salvador_Dali's images...Creating DataFrame... Creating csv file... Done!\n",
      "Processing Diego_Rivera's images...Creating DataFrame... Creating csv file... Done!\n",
      "Processing Vasiliy_Kandinskiy's images...Creating DataFrame... Creating csv file... Done!\n",
      "Processing Gustav_Klimt's images...Creating DataFrame... Creating csv file... Done!\n",
      "Processing Vincent_van_Gogh's images...Creating DataFrame... Creating csv file... Done!\n",
      "Processing Gustave_Courbet's images...Creating DataFrame... Creating csv file... Done!\n",
      "Processing Amedeo_Modigliani's images...Creating DataFrame... Creating csv file... Done!\n",
      "Processing Henri_Matisse's images...Creating DataFrame... Creating csv file... Done!\n",
      "Processing Frida_Kahlo's images...Creating DataFrame... Creating csv file... Done!\n",
      "Processing Pablo_Picasso's images...Creating DataFrame... Creating csv file... Done!\n",
      "Processing Jackson_Pollock's images...Creating DataFrame... Creating csv file... Done!\n",
      "Processing Pierre-Auguste_Renoir's images...Creating DataFrame... Creating csv file... Done!\n",
      "Processing Joan_Miro's images...Creating DataFrame... Creating csv file... Done!\n",
      "Processing Peter_Paul_Rubens's images...Creating DataFrame... Creating csv file... Done!\n",
      "Processing Edvard_Munch's images...Creating DataFrame... Creating csv file... Done!\n",
      "Processing Caravaggio's images...Creating DataFrame... Creating csv file... Done!\n",
      "Processing Hieronymus_Bosch's images...Creating DataFrame... Creating csv file... Done!\n",
      "Processing Mikhail_Vrubel's images...Creating DataFrame... Creating csv file... Done!\n",
      "Processing Raphael's images...Creating DataFrame... Creating csv file... Done!\n",
      "Processing Rembrandt's images...Creating DataFrame... Creating csv file... Done!\n",
      "Processing Leonardo_da_Vinci's images...Creating DataFrame... Creating csv file... Done!\n",
      "Processing Henri_Rousseau's images...Creating DataFrame... Creating csv file... Done!\n",
      "Processing William_Turner's images...Creating DataFrame... Creating csv file... Done!\n",
      "Processing Albrecht_Dürer's images...Creating DataFrame... Creating csv file... Done!\n"
=======
   "execution_count": 39,
   "metadata": {},
   "outputs": [
    {
     "output_type": "error",
     "ename": "KeyboardInterrupt",
     "evalue": "",
     "traceback": [
      "\u001b[1;31m---------------------------------------------------------------------------\u001b[0m",
      "\u001b[1;31mKeyboardInterrupt\u001b[0m                         Traceback (most recent call last)",
      "\u001b[1;32m<ipython-input-39-237981bf9b44>\u001b[0m in \u001b[0;36m<module>\u001b[1;34m\u001b[0m\n\u001b[0;32m      6\u001b[0m \u001b[1;32mfor\u001b[0m \u001b[0martist\u001b[0m \u001b[1;32min\u001b[0m \u001b[0martists\u001b[0m\u001b[1;33m:\u001b[0m\u001b[1;33m\u001b[0m\u001b[1;33m\u001b[0m\u001b[0m\n\u001b[0;32m      7\u001b[0m     \u001b[1;32mfor\u001b[0m \u001b[0mpicture\u001b[0m \u001b[1;32min\u001b[0m \u001b[0mos\u001b[0m\u001b[1;33m.\u001b[0m\u001b[0mlistdir\u001b[0m\u001b[1;33m(\u001b[0m\u001b[0mPATH\u001b[0m \u001b[1;33m+\u001b[0m \u001b[0martist\u001b[0m\u001b[1;33m)\u001b[0m\u001b[1;33m:\u001b[0m\u001b[1;33m\u001b[0m\u001b[1;33m\u001b[0m\u001b[0m\n\u001b[1;32m----> 8\u001b[1;33m         \u001b[0mimage\u001b[0m \u001b[1;33m=\u001b[0m \u001b[0mImage\u001b[0m\u001b[1;33m.\u001b[0m\u001b[0mopen\u001b[0m\u001b[1;33m(\u001b[0m\u001b[0mPATH\u001b[0m \u001b[1;33m+\u001b[0m \u001b[0martist\u001b[0m \u001b[1;33m+\u001b[0m \u001b[1;34m'/'\u001b[0m \u001b[1;33m+\u001b[0m \u001b[0mpicture\u001b[0m\u001b[1;33m)\u001b[0m\u001b[1;33m\u001b[0m\u001b[1;33m\u001b[0m\u001b[0m\n\u001b[0m\u001b[0;32m      9\u001b[0m         entry = np.append([artist, picture],\n\u001b[0;32m     10\u001b[0m                    np.array(image).ravel())\n",
      "\u001b[1;32mC:\\Python\\Python39\\lib\\site-packages\\PIL\\Image.py\u001b[0m in \u001b[0;36mopen\u001b[1;34m(fp, mode, formats)\u001b[0m\n\u001b[0;32m   2910\u001b[0m \u001b[1;33m\u001b[0m\u001b[0m\n\u001b[0;32m   2911\u001b[0m     \u001b[1;32mif\u001b[0m \u001b[0mfilename\u001b[0m\u001b[1;33m:\u001b[0m\u001b[1;33m\u001b[0m\u001b[1;33m\u001b[0m\u001b[0m\n\u001b[1;32m-> 2912\u001b[1;33m         \u001b[0mfp\u001b[0m \u001b[1;33m=\u001b[0m \u001b[0mbuiltins\u001b[0m\u001b[1;33m.\u001b[0m\u001b[0mopen\u001b[0m\u001b[1;33m(\u001b[0m\u001b[0mfilename\u001b[0m\u001b[1;33m,\u001b[0m \u001b[1;34m\"rb\"\u001b[0m\u001b[1;33m)\u001b[0m\u001b[1;33m\u001b[0m\u001b[1;33m\u001b[0m\u001b[0m\n\u001b[0m\u001b[0;32m   2913\u001b[0m         \u001b[0mexclusive_fp\u001b[0m \u001b[1;33m=\u001b[0m \u001b[1;32mTrue\u001b[0m\u001b[1;33m\u001b[0m\u001b[1;33m\u001b[0m\u001b[0m\n\u001b[0;32m   2914\u001b[0m \u001b[1;33m\u001b[0m\u001b[0m\n",
      "\u001b[1;31mKeyboardInterrupt\u001b[0m: "
>>>>>>> 3583bb52f7323ea48efa6ee3b3f640a2eb200e9c
     ]
    }
   ],
   "source": [
    "# make a csv out of each artist's resized pictures - RUN THIS IF RESIZED PICTURES ARE SAVED\n",
    "\n",
    "# get list or artists/folders\n",
    "artists = os.listdir(PATH)\n",
<<<<<<< HEAD
    "artists = [name for name in artists if name[0]!='.']\n",
=======
>>>>>>> 3583bb52f7323ea48efa6ee3b3f640a2eb200e9c
    "for artist in artists:\n",
    "    print('Processing ' + artist + '\\'s images...', end='')\n",
    "    pictures_dat = []\n",
    "    # iterate over pictures/files in artist/folder, turning each picture into a 1x30002 list\n",
    "    for picture in os.listdir(PATH + artist):\n",
    "        image = Image.open(PATH + artist + '/' + picture)\n",
    "        entry = np.append([artist, picture],\n",
    "                   np.array(image).ravel())\n",
    "        image.close()\n",
    "        pictures_dat.append(list(entry))\n",
    "    # make into dataframe and save as csv\n",
    "    print('Creating DataFrame... ', end='')\n",
    "    artist_df = pd.DataFrame(pictures_dat, columns=column_names)\n",
    "    print('Creating csv file... ', end='')\n",
<<<<<<< HEAD
    "    artist_df.to_csv('./CSVs/' + artist + '.csv')\n",
    "    print('Done!')\n",
    "        \n"
   ]
  },
  {
   "cell_type": "code",
   "execution_count": 14,
   "metadata": {},
   "outputs": [
    {
     "name": "stdout",
     "output_type": "stream",
     "text": [
      "done\n"
     ]
    }
   ],
   "source": [
    "print('done')"
   ]
  },
  {
   "cell_type": "code",
   "execution_count": null,
   "metadata": {},
   "outputs": [],
   "source": []
  }
 ],
 "metadata": {
  "kernelspec": {
   "display_name": "Python 3",
   "language": "python",
   "name": "python3"
  },
  "language_info": {
   "codemirror_mode": {
    "name": "ipython",
    "version": 3
   },
   "file_extension": ".py",
   "mimetype": "text/x-python",
   "name": "python",
   "nbconvert_exporter": "python",
   "pygments_lexer": "ipython3",
   "version": "3.7.6"
  },
  "metadata": {
   "interpreter": {
    "hash": "ee5cc6fef2d70a7e71ee3826687cbd150f18158e0b1eef11d4f4f92bb920e304"
   }
  }
 },
 "nbformat": 4,
 "nbformat_minor": 4
}
=======
    "    artist_df.to_csv(PATH + artist + '.csv')\n",
    "    print('Done!')\n",
    "        \n"
   ]
  }
 ]
}
>>>>>>> 3583bb52f7323ea48efa6ee3b3f640a2eb200e9c
